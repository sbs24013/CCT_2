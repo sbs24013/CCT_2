{
 "cells": [
  {
   "cell_type": "code",
   "execution_count": null,
   "id": "319dfba7",
   "metadata": {},
   "outputs": [],
   "source": [
    "# !pip install keras numpy pandas scikit-learn"
   ]
  },
  {
   "cell_type": "code",
   "execution_count": 20,
   "id": "79dd51c9",
   "metadata": {},
   "outputs": [
    {
     "name": "stdout",
     "output_type": "stream",
     "text": [
      "Note: you may need to restart the kernel to use updated packages.\n"
     ]
    },
    {
     "name": "stderr",
     "output_type": "stream",
     "text": [
      "The system cannot find the path specified.\n"
     ]
    }
   ],
   "source": [
    "pip install pandas"
   ]
  },
  {
   "cell_type": "code",
   "execution_count": 21,
   "id": "6b66fc98",
   "metadata": {},
   "outputs": [
    {
     "ename": "ModuleNotFoundError",
     "evalue": "No module named 'pandas'",
     "output_type": "error",
     "traceback": [
      "\u001b[1;31m---------------------------------------------------------------------------\u001b[0m",
      "\u001b[1;31mModuleNotFoundError\u001b[0m                       Traceback (most recent call last)",
      "Cell \u001b[1;32mIn[21], line 6\u001b[0m\n\u001b[0;32m      4\u001b[0m \u001b[38;5;28;01mfrom\u001b[39;00m \u001b[38;5;21;01mkeras\u001b[39;00m\u001b[38;5;21;01m.\u001b[39;00m\u001b[38;5;21;01mlayers\u001b[39;00m \u001b[38;5;28;01mimport\u001b[39;00m Dense\n\u001b[0;32m      5\u001b[0m \u001b[38;5;28;01mimport\u001b[39;00m \u001b[38;5;21;01mnumpy\u001b[39;00m\n\u001b[1;32m----> 6\u001b[0m \u001b[38;5;28;01mimport\u001b[39;00m \u001b[38;5;21;01mpandas\u001b[39;00m \u001b[38;5;28;01mas\u001b[39;00m \u001b[38;5;21;01mpd\u001b[39;00m\n\u001b[0;32m      7\u001b[0m \u001b[38;5;28;01mimport\u001b[39;00m \u001b[38;5;21;01msklearn\u001b[39;00m\n\u001b[0;32m      8\u001b[0m \u001b[38;5;28;01mfrom\u001b[39;00m \u001b[38;5;21;01msklearn\u001b[39;00m\u001b[38;5;21;01m.\u001b[39;00m\u001b[38;5;21;01mpreprocessing\u001b[39;00m \u001b[38;5;28;01mimport\u001b[39;00m StandardScaler\n",
      "\u001b[1;31mModuleNotFoundError\u001b[0m: No module named 'pandas'"
     ]
    }
   ],
   "source": [
    "#Create first network with Keras\n",
    "import keras\n",
    "from keras.models import Sequential\n",
    "from keras.layers import Dense\n",
    "import numpy\n",
    "import pandas as pd\n",
    "import sklearn\n",
    "from sklearn.preprocessing import StandardScaler\n"
   ]
  },
  {
   "cell_type": "code",
   "execution_count": null,
   "id": "7b8956bc",
   "metadata": {},
   "outputs": [],
   "source": [
    "# fix random seed for reproducibility\n",
    "seed = 7\n",
    "numpy.random.seed(seed)\n",
    "\n",
    "# load pima indians dataset\n",
    "#dataset = numpy.loadtxt('pima-indians-diabetes.csv', delimiter=\",\")\n",
    "dataset = pd.read_csv('pima-indians-diabetes.csv',header=None,)\n",
    "\n",
    "#data=pd.DataFrame(dataset) #data is panda but dataset is something else\n",
    "dataset.head()\n",
    "\n"
   ]
  },
  {
   "cell_type": "code",
   "execution_count": null,
   "id": "92e27a3f",
   "metadata": {},
   "outputs": [],
   "source": [
    "# split into input (X ie dependent variables) and output (Y ie independent variables) variables\n",
    "X = dataset.iloc[:,0:8]   #0-8 columns are dependent variables - remember 8th column is not included\n",
    "Y = dataset.iloc[:,8]#8 column is independent variable\n",
    "#Y= Y.reshape(-1,1)"
   ]
  },
  {
   "cell_type": "code",
   "execution_count": null,
   "id": "46e53ee1",
   "metadata": {},
   "outputs": [],
   "source": [
    "type(X)"
   ]
  },
  {
   "cell_type": "code",
   "execution_count": null,
   "id": "dd60c803",
   "metadata": {},
   "outputs": [],
   "source": [
    "X.shape"
   ]
  },
  {
   "cell_type": "code",
   "execution_count": null,
   "id": "e0c29cd8",
   "metadata": {},
   "outputs": [],
   "source": [
    "scaler = StandardScaler()\n",
    "X = scaler.fit_transform(X)"
   ]
  },
  {
   "cell_type": "code",
   "execution_count": null,
   "id": "5541e4ed",
   "metadata": {},
   "outputs": [],
   "source": [
    "# create model\n",
    "model = Sequential()\n",
    "# model.add(Dense(1000, input_dim=8, activation='relu')) # 1000 neurons\n",
    "# model.add(Dense(100, activation='tanh')) # 100 neurons with tanh activation function\n",
    "model.add(Dense(10, input_dim=8, activation='relu')) # 10 neurons\n",
    "model.add(Dense(50, activation='relu')) # 50 neurons\n",
    "model.add(Dense(3, activation='relu')) # 3 neurons\n",
    "# 93.36% accuracy with 500 neurons\n",
    "# 86.99% accuracy with 100 neurons\n",
    "# 85.2% accuracy with 50 neurons\n",
    "# 81.38% accuracy with 10 neurons\n",
    "\n",
    "# relu: activation function\n",
    "# rule of thumbs: use \"relu\" first\n",
    "# sigmoid: bc the values range is 0 to 1\n",
    "model.add(Dense(1, activation='sigmoid')) # 1 output neuron\n",
    "\n"
   ]
  },
  {
   "cell_type": "code",
   "execution_count": null,
   "id": "6bcc38f4",
   "metadata": {},
   "outputs": [],
   "source": [
    "# Compile model\n",
    "model.compile(loss='binary_crossentropy', optimizer='adam', metrics=['accuracy'])\n",
    "\n",
    "# Fit the model\n",
    "model.fit(X, Y, epochs=150, batch_size=10,  verbose=2) # 150 epoch, 10 batch size, verbose = 2\n",
    "# train 150 times (= epochs)\n",
    "# each of epochs: 10 rows at a time\n",
    "# loss continuously less"
   ]
  },
  {
   "cell_type": "code",
   "execution_count": null,
   "id": "059ecf2b",
   "metadata": {},
   "outputs": [],
   "source": [
    "# evaluate the model\n",
    "scores = model.evaluate(X, Y)\n",
    "print(\"%s: %.2f%%\" % (model.metrics_names[1], scores[1]*100))\n",
    "\n"
   ]
  },
  {
   "cell_type": "code",
   "execution_count": null,
   "id": "23690f0d",
   "metadata": {},
   "outputs": [],
   "source": [
    "# calculate predictions\n",
    "predictions = model.predict(X)    # predicting Y only using X\n",
    "print(predictions)"
   ]
  },
  {
   "cell_type": "code",
   "execution_count": null,
   "id": "1117a501",
   "metadata": {},
   "outputs": [],
   "source": [
    "# Round predictions\n",
    "#rounded = [int(numpy.round(x, 0)) for x in predictions]\n",
    "rounded = [round(x[0]) for x in predictions]\n",
    "print(rounded)\n",
    "\n",
    "print(\"Rounded type: \", type(rounded)) # rounded is a 'list' class\n",
    "print(\"Shape of rounded: \", len(rounded))\n",
    "print(\"Dataset type: \", type(dataset)) # numpy array?\n",
    "print(\"Shape of dataset: \", dataset.shape)"
   ]
  },
  {
   "cell_type": "code",
   "execution_count": null,
   "id": "cc019940",
   "metadata": {},
   "outputs": [],
   "source": [
    "import matplotlib.pyplot as plt\n",
    "import numpy\n",
    "from sklearn import metrics\n",
    "\n",
    "actual = Y\n",
    "predicted = rounded\n",
    "\n",
    "confusion_matrix = metrics.confusion_matrix(actual, predicted)\n",
    "\n",
    "cm_display = metrics.ConfusionMatrixDisplay(confusion_matrix = confusion_matrix, display_labels = [False, True])\n",
    "\n",
    "cm_display.plot()\n",
    "plt.show() "
   ]
  },
  {
   "cell_type": "code",
   "execution_count": null,
   "id": "750db040",
   "metadata": {},
   "outputs": [],
   "source": [
    "# summarize the first 5 cases\n",
    "for i in range(5):\n",
    "\tprint(str(rounded[i]) + '=>(expected '+ str(Y[i]) +')')"
   ]
  },
  {
   "cell_type": "code",
   "execution_count": null,
   "id": "24338988",
   "metadata": {},
   "outputs": [],
   "source": []
  }
 ],
 "metadata": {
  "kernelspec": {
   "display_name": "Python 3 (ipykernel)",
   "language": "python",
   "name": "python3"
  },
  "language_info": {
   "codemirror_mode": {
    "name": "ipython",
    "version": 3
   },
   "file_extension": ".py",
   "mimetype": "text/x-python",
   "name": "python",
   "nbconvert_exporter": "python",
   "pygments_lexer": "ipython3",
   "version": "3.11.9"
  }
 },
 "nbformat": 4,
 "nbformat_minor": 5
}
